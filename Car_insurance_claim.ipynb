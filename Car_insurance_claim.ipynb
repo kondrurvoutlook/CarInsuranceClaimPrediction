{
 "cells": [
  {
   "cell_type": "markdown",
   "id": "297e4e5c",
   "metadata": {},
   "source": [
    "### Import basic libraries"
   ]
  },
  {
   "cell_type": "code",
   "execution_count": 1,
   "id": "ab1141c9",
   "metadata": {},
   "outputs": [],
   "source": [
    "import pandas as pd\n",
    "import numpy as np"
   ]
  },
  {
   "cell_type": "code",
   "execution_count": 120,
   "id": "99705b81",
   "metadata": {},
   "outputs": [],
   "source": [
    "df=pd.read_csv('train_qWM28Yl.csv')"
   ]
  },
  {
   "cell_type": "code",
   "execution_count": 3,
   "id": "b28c0731",
   "metadata": {},
   "outputs": [
    {
     "data": {
      "text/plain": [
       "(58592, 44)"
      ]
     },
     "execution_count": 3,
     "metadata": {},
     "output_type": "execute_result"
    }
   ],
   "source": [
    "df.shape"
   ]
  },
  {
   "cell_type": "code",
   "execution_count": 4,
   "id": "f5c93c9a",
   "metadata": {},
   "outputs": [
    {
     "data": {
      "text/html": [
       "<div>\n",
       "<style scoped>\n",
       "    .dataframe tbody tr th:only-of-type {\n",
       "        vertical-align: middle;\n",
       "    }\n",
       "\n",
       "    .dataframe tbody tr th {\n",
       "        vertical-align: top;\n",
       "    }\n",
       "\n",
       "    .dataframe thead th {\n",
       "        text-align: right;\n",
       "    }\n",
       "</style>\n",
       "<table border=\"1\" class=\"dataframe\">\n",
       "  <thead>\n",
       "    <tr style=\"text-align: right;\">\n",
       "      <th></th>\n",
       "      <th>policy_id</th>\n",
       "      <th>policy_tenure</th>\n",
       "      <th>age_of_car</th>\n",
       "      <th>age_of_policyholder</th>\n",
       "      <th>area_cluster</th>\n",
       "      <th>population_density</th>\n",
       "      <th>make</th>\n",
       "      <th>segment</th>\n",
       "      <th>model</th>\n",
       "      <th>fuel_type</th>\n",
       "      <th>...</th>\n",
       "      <th>is_brake_assist</th>\n",
       "      <th>is_power_door_locks</th>\n",
       "      <th>is_central_locking</th>\n",
       "      <th>is_power_steering</th>\n",
       "      <th>is_driver_seat_height_adjustable</th>\n",
       "      <th>is_day_night_rear_view_mirror</th>\n",
       "      <th>is_ecw</th>\n",
       "      <th>is_speed_alert</th>\n",
       "      <th>ncap_rating</th>\n",
       "      <th>is_claim</th>\n",
       "    </tr>\n",
       "  </thead>\n",
       "  <tbody>\n",
       "    <tr>\n",
       "      <th>0</th>\n",
       "      <td>ID00001</td>\n",
       "      <td>0.515874</td>\n",
       "      <td>0.05</td>\n",
       "      <td>0.644231</td>\n",
       "      <td>C1</td>\n",
       "      <td>4990</td>\n",
       "      <td>1</td>\n",
       "      <td>A</td>\n",
       "      <td>M1</td>\n",
       "      <td>CNG</td>\n",
       "      <td>...</td>\n",
       "      <td>No</td>\n",
       "      <td>No</td>\n",
       "      <td>No</td>\n",
       "      <td>Yes</td>\n",
       "      <td>No</td>\n",
       "      <td>No</td>\n",
       "      <td>No</td>\n",
       "      <td>Yes</td>\n",
       "      <td>0</td>\n",
       "      <td>0</td>\n",
       "    </tr>\n",
       "    <tr>\n",
       "      <th>1</th>\n",
       "      <td>ID00002</td>\n",
       "      <td>0.672619</td>\n",
       "      <td>0.02</td>\n",
       "      <td>0.375000</td>\n",
       "      <td>C2</td>\n",
       "      <td>27003</td>\n",
       "      <td>1</td>\n",
       "      <td>A</td>\n",
       "      <td>M1</td>\n",
       "      <td>CNG</td>\n",
       "      <td>...</td>\n",
       "      <td>No</td>\n",
       "      <td>No</td>\n",
       "      <td>No</td>\n",
       "      <td>Yes</td>\n",
       "      <td>No</td>\n",
       "      <td>No</td>\n",
       "      <td>No</td>\n",
       "      <td>Yes</td>\n",
       "      <td>0</td>\n",
       "      <td>0</td>\n",
       "    </tr>\n",
       "    <tr>\n",
       "      <th>2</th>\n",
       "      <td>ID00003</td>\n",
       "      <td>0.841110</td>\n",
       "      <td>0.02</td>\n",
       "      <td>0.384615</td>\n",
       "      <td>C3</td>\n",
       "      <td>4076</td>\n",
       "      <td>1</td>\n",
       "      <td>A</td>\n",
       "      <td>M1</td>\n",
       "      <td>CNG</td>\n",
       "      <td>...</td>\n",
       "      <td>No</td>\n",
       "      <td>No</td>\n",
       "      <td>No</td>\n",
       "      <td>Yes</td>\n",
       "      <td>No</td>\n",
       "      <td>No</td>\n",
       "      <td>No</td>\n",
       "      <td>Yes</td>\n",
       "      <td>0</td>\n",
       "      <td>0</td>\n",
       "    </tr>\n",
       "    <tr>\n",
       "      <th>3</th>\n",
       "      <td>ID00004</td>\n",
       "      <td>0.900277</td>\n",
       "      <td>0.11</td>\n",
       "      <td>0.432692</td>\n",
       "      <td>C4</td>\n",
       "      <td>21622</td>\n",
       "      <td>1</td>\n",
       "      <td>C1</td>\n",
       "      <td>M2</td>\n",
       "      <td>Petrol</td>\n",
       "      <td>...</td>\n",
       "      <td>Yes</td>\n",
       "      <td>Yes</td>\n",
       "      <td>Yes</td>\n",
       "      <td>Yes</td>\n",
       "      <td>Yes</td>\n",
       "      <td>Yes</td>\n",
       "      <td>Yes</td>\n",
       "      <td>Yes</td>\n",
       "      <td>2</td>\n",
       "      <td>0</td>\n",
       "    </tr>\n",
       "    <tr>\n",
       "      <th>4</th>\n",
       "      <td>ID00005</td>\n",
       "      <td>0.596403</td>\n",
       "      <td>0.11</td>\n",
       "      <td>0.634615</td>\n",
       "      <td>C5</td>\n",
       "      <td>34738</td>\n",
       "      <td>2</td>\n",
       "      <td>A</td>\n",
       "      <td>M3</td>\n",
       "      <td>Petrol</td>\n",
       "      <td>...</td>\n",
       "      <td>No</td>\n",
       "      <td>Yes</td>\n",
       "      <td>Yes</td>\n",
       "      <td>Yes</td>\n",
       "      <td>No</td>\n",
       "      <td>Yes</td>\n",
       "      <td>Yes</td>\n",
       "      <td>Yes</td>\n",
       "      <td>2</td>\n",
       "      <td>0</td>\n",
       "    </tr>\n",
       "  </tbody>\n",
       "</table>\n",
       "<p>5 rows × 44 columns</p>\n",
       "</div>"
      ],
      "text/plain": [
       "  policy_id  policy_tenure  age_of_car  age_of_policyholder area_cluster  \\\n",
       "0   ID00001       0.515874        0.05             0.644231           C1   \n",
       "1   ID00002       0.672619        0.02             0.375000           C2   \n",
       "2   ID00003       0.841110        0.02             0.384615           C3   \n",
       "3   ID00004       0.900277        0.11             0.432692           C4   \n",
       "4   ID00005       0.596403        0.11             0.634615           C5   \n",
       "\n",
       "   population_density  make segment model fuel_type  ... is_brake_assist  \\\n",
       "0                4990     1       A    M1       CNG  ...              No   \n",
       "1               27003     1       A    M1       CNG  ...              No   \n",
       "2                4076     1       A    M1       CNG  ...              No   \n",
       "3               21622     1      C1    M2    Petrol  ...             Yes   \n",
       "4               34738     2       A    M3    Petrol  ...              No   \n",
       "\n",
       "  is_power_door_locks is_central_locking  is_power_steering  \\\n",
       "0                  No                 No                Yes   \n",
       "1                  No                 No                Yes   \n",
       "2                  No                 No                Yes   \n",
       "3                 Yes                Yes                Yes   \n",
       "4                 Yes                Yes                Yes   \n",
       "\n",
       "  is_driver_seat_height_adjustable is_day_night_rear_view_mirror is_ecw  \\\n",
       "0                               No                            No     No   \n",
       "1                               No                            No     No   \n",
       "2                               No                            No     No   \n",
       "3                              Yes                           Yes    Yes   \n",
       "4                               No                           Yes    Yes   \n",
       "\n",
       "  is_speed_alert ncap_rating is_claim  \n",
       "0            Yes           0        0  \n",
       "1            Yes           0        0  \n",
       "2            Yes           0        0  \n",
       "3            Yes           2        0  \n",
       "4            Yes           2        0  \n",
       "\n",
       "[5 rows x 44 columns]"
      ]
     },
     "execution_count": 4,
     "metadata": {},
     "output_type": "execute_result"
    }
   ],
   "source": [
    "df.head()"
   ]
  },
  {
   "cell_type": "code",
   "execution_count": 5,
   "id": "60b73304",
   "metadata": {},
   "outputs": [
    {
     "data": {
      "text/html": [
       "<div>\n",
       "<style scoped>\n",
       "    .dataframe tbody tr th:only-of-type {\n",
       "        vertical-align: middle;\n",
       "    }\n",
       "\n",
       "    .dataframe tbody tr th {\n",
       "        vertical-align: top;\n",
       "    }\n",
       "\n",
       "    .dataframe thead th {\n",
       "        text-align: right;\n",
       "    }\n",
       "</style>\n",
       "<table border=\"1\" class=\"dataframe\">\n",
       "  <thead>\n",
       "    <tr style=\"text-align: right;\">\n",
       "      <th></th>\n",
       "      <th>policy_tenure</th>\n",
       "      <th>age_of_car</th>\n",
       "      <th>age_of_policyholder</th>\n",
       "      <th>population_density</th>\n",
       "      <th>make</th>\n",
       "      <th>airbags</th>\n",
       "      <th>displacement</th>\n",
       "      <th>cylinder</th>\n",
       "      <th>gear_box</th>\n",
       "      <th>turning_radius</th>\n",
       "      <th>length</th>\n",
       "      <th>width</th>\n",
       "      <th>height</th>\n",
       "      <th>gross_weight</th>\n",
       "      <th>ncap_rating</th>\n",
       "      <th>is_claim</th>\n",
       "    </tr>\n",
       "  </thead>\n",
       "  <tbody>\n",
       "    <tr>\n",
       "      <th>count</th>\n",
       "      <td>58592.000000</td>\n",
       "      <td>58592.000000</td>\n",
       "      <td>58592.000000</td>\n",
       "      <td>58592.000000</td>\n",
       "      <td>58592.000000</td>\n",
       "      <td>58592.000000</td>\n",
       "      <td>58592.000000</td>\n",
       "      <td>58592.000000</td>\n",
       "      <td>58592.000000</td>\n",
       "      <td>58592.000000</td>\n",
       "      <td>58592.000000</td>\n",
       "      <td>58592.000000</td>\n",
       "      <td>58592.00000</td>\n",
       "      <td>58592.000000</td>\n",
       "      <td>58592.000000</td>\n",
       "      <td>58592.000000</td>\n",
       "    </tr>\n",
       "    <tr>\n",
       "      <th>mean</th>\n",
       "      <td>0.611246</td>\n",
       "      <td>0.069424</td>\n",
       "      <td>0.469420</td>\n",
       "      <td>18826.858667</td>\n",
       "      <td>1.763722</td>\n",
       "      <td>3.137066</td>\n",
       "      <td>1162.355851</td>\n",
       "      <td>3.626963</td>\n",
       "      <td>5.245443</td>\n",
       "      <td>4.852893</td>\n",
       "      <td>3850.476891</td>\n",
       "      <td>1672.233667</td>\n",
       "      <td>1553.33537</td>\n",
       "      <td>1385.276813</td>\n",
       "      <td>1.759950</td>\n",
       "      <td>0.063968</td>\n",
       "    </tr>\n",
       "    <tr>\n",
       "      <th>std</th>\n",
       "      <td>0.414156</td>\n",
       "      <td>0.056721</td>\n",
       "      <td>0.122886</td>\n",
       "      <td>17660.174792</td>\n",
       "      <td>1.136988</td>\n",
       "      <td>1.832641</td>\n",
       "      <td>266.304786</td>\n",
       "      <td>0.483616</td>\n",
       "      <td>0.430353</td>\n",
       "      <td>0.228061</td>\n",
       "      <td>311.457119</td>\n",
       "      <td>112.089135</td>\n",
       "      <td>79.62227</td>\n",
       "      <td>212.423085</td>\n",
       "      <td>1.389576</td>\n",
       "      <td>0.244698</td>\n",
       "    </tr>\n",
       "    <tr>\n",
       "      <th>min</th>\n",
       "      <td>0.002735</td>\n",
       "      <td>0.000000</td>\n",
       "      <td>0.288462</td>\n",
       "      <td>290.000000</td>\n",
       "      <td>1.000000</td>\n",
       "      <td>1.000000</td>\n",
       "      <td>796.000000</td>\n",
       "      <td>3.000000</td>\n",
       "      <td>5.000000</td>\n",
       "      <td>4.500000</td>\n",
       "      <td>3445.000000</td>\n",
       "      <td>1475.000000</td>\n",
       "      <td>1475.00000</td>\n",
       "      <td>1051.000000</td>\n",
       "      <td>0.000000</td>\n",
       "      <td>0.000000</td>\n",
       "    </tr>\n",
       "    <tr>\n",
       "      <th>25%</th>\n",
       "      <td>0.210250</td>\n",
       "      <td>0.020000</td>\n",
       "      <td>0.365385</td>\n",
       "      <td>6112.000000</td>\n",
       "      <td>1.000000</td>\n",
       "      <td>2.000000</td>\n",
       "      <td>796.000000</td>\n",
       "      <td>3.000000</td>\n",
       "      <td>5.000000</td>\n",
       "      <td>4.600000</td>\n",
       "      <td>3445.000000</td>\n",
       "      <td>1515.000000</td>\n",
       "      <td>1475.00000</td>\n",
       "      <td>1185.000000</td>\n",
       "      <td>0.000000</td>\n",
       "      <td>0.000000</td>\n",
       "    </tr>\n",
       "    <tr>\n",
       "      <th>50%</th>\n",
       "      <td>0.573792</td>\n",
       "      <td>0.060000</td>\n",
       "      <td>0.451923</td>\n",
       "      <td>8794.000000</td>\n",
       "      <td>1.000000</td>\n",
       "      <td>2.000000</td>\n",
       "      <td>1197.000000</td>\n",
       "      <td>4.000000</td>\n",
       "      <td>5.000000</td>\n",
       "      <td>4.800000</td>\n",
       "      <td>3845.000000</td>\n",
       "      <td>1735.000000</td>\n",
       "      <td>1530.00000</td>\n",
       "      <td>1335.000000</td>\n",
       "      <td>2.000000</td>\n",
       "      <td>0.000000</td>\n",
       "    </tr>\n",
       "    <tr>\n",
       "      <th>75%</th>\n",
       "      <td>1.039104</td>\n",
       "      <td>0.110000</td>\n",
       "      <td>0.548077</td>\n",
       "      <td>27003.000000</td>\n",
       "      <td>3.000000</td>\n",
       "      <td>6.000000</td>\n",
       "      <td>1493.000000</td>\n",
       "      <td>4.000000</td>\n",
       "      <td>5.000000</td>\n",
       "      <td>5.000000</td>\n",
       "      <td>3995.000000</td>\n",
       "      <td>1755.000000</td>\n",
       "      <td>1635.00000</td>\n",
       "      <td>1510.000000</td>\n",
       "      <td>3.000000</td>\n",
       "      <td>0.000000</td>\n",
       "    </tr>\n",
       "    <tr>\n",
       "      <th>max</th>\n",
       "      <td>1.396641</td>\n",
       "      <td>1.000000</td>\n",
       "      <td>1.000000</td>\n",
       "      <td>73430.000000</td>\n",
       "      <td>5.000000</td>\n",
       "      <td>6.000000</td>\n",
       "      <td>1498.000000</td>\n",
       "      <td>4.000000</td>\n",
       "      <td>6.000000</td>\n",
       "      <td>5.200000</td>\n",
       "      <td>4300.000000</td>\n",
       "      <td>1811.000000</td>\n",
       "      <td>1825.00000</td>\n",
       "      <td>1720.000000</td>\n",
       "      <td>5.000000</td>\n",
       "      <td>1.000000</td>\n",
       "    </tr>\n",
       "  </tbody>\n",
       "</table>\n",
       "</div>"
      ],
      "text/plain": [
       "       policy_tenure    age_of_car  age_of_policyholder  population_density  \\\n",
       "count   58592.000000  58592.000000         58592.000000        58592.000000   \n",
       "mean        0.611246      0.069424             0.469420        18826.858667   \n",
       "std         0.414156      0.056721             0.122886        17660.174792   \n",
       "min         0.002735      0.000000             0.288462          290.000000   \n",
       "25%         0.210250      0.020000             0.365385         6112.000000   \n",
       "50%         0.573792      0.060000             0.451923         8794.000000   \n",
       "75%         1.039104      0.110000             0.548077        27003.000000   \n",
       "max         1.396641      1.000000             1.000000        73430.000000   \n",
       "\n",
       "               make       airbags  displacement      cylinder      gear_box  \\\n",
       "count  58592.000000  58592.000000  58592.000000  58592.000000  58592.000000   \n",
       "mean       1.763722      3.137066   1162.355851      3.626963      5.245443   \n",
       "std        1.136988      1.832641    266.304786      0.483616      0.430353   \n",
       "min        1.000000      1.000000    796.000000      3.000000      5.000000   \n",
       "25%        1.000000      2.000000    796.000000      3.000000      5.000000   \n",
       "50%        1.000000      2.000000   1197.000000      4.000000      5.000000   \n",
       "75%        3.000000      6.000000   1493.000000      4.000000      5.000000   \n",
       "max        5.000000      6.000000   1498.000000      4.000000      6.000000   \n",
       "\n",
       "       turning_radius        length         width       height  gross_weight  \\\n",
       "count    58592.000000  58592.000000  58592.000000  58592.00000  58592.000000   \n",
       "mean         4.852893   3850.476891   1672.233667   1553.33537   1385.276813   \n",
       "std          0.228061    311.457119    112.089135     79.62227    212.423085   \n",
       "min          4.500000   3445.000000   1475.000000   1475.00000   1051.000000   \n",
       "25%          4.600000   3445.000000   1515.000000   1475.00000   1185.000000   \n",
       "50%          4.800000   3845.000000   1735.000000   1530.00000   1335.000000   \n",
       "75%          5.000000   3995.000000   1755.000000   1635.00000   1510.000000   \n",
       "max          5.200000   4300.000000   1811.000000   1825.00000   1720.000000   \n",
       "\n",
       "        ncap_rating      is_claim  \n",
       "count  58592.000000  58592.000000  \n",
       "mean       1.759950      0.063968  \n",
       "std        1.389576      0.244698  \n",
       "min        0.000000      0.000000  \n",
       "25%        0.000000      0.000000  \n",
       "50%        2.000000      0.000000  \n",
       "75%        3.000000      0.000000  \n",
       "max        5.000000      1.000000  "
      ]
     },
     "execution_count": 5,
     "metadata": {},
     "output_type": "execute_result"
    }
   ],
   "source": [
    "df.describe()"
   ]
  },
  {
   "cell_type": "code",
   "execution_count": 6,
   "id": "71ac60cc",
   "metadata": {},
   "outputs": [
    {
     "name": "stdout",
     "output_type": "stream",
     "text": [
      "<class 'pandas.core.frame.DataFrame'>\n",
      "RangeIndex: 58592 entries, 0 to 58591\n",
      "Data columns (total 44 columns):\n",
      " #   Column                            Non-Null Count  Dtype  \n",
      "---  ------                            --------------  -----  \n",
      " 0   policy_id                         58592 non-null  object \n",
      " 1   policy_tenure                     58592 non-null  float64\n",
      " 2   age_of_car                        58592 non-null  float64\n",
      " 3   age_of_policyholder               58592 non-null  float64\n",
      " 4   area_cluster                      58592 non-null  object \n",
      " 5   population_density                58592 non-null  int64  \n",
      " 6   make                              58592 non-null  int64  \n",
      " 7   segment                           58592 non-null  object \n",
      " 8   model                             58592 non-null  object \n",
      " 9   fuel_type                         58592 non-null  object \n",
      " 10  max_torque                        58592 non-null  object \n",
      " 11  max_power                         58592 non-null  object \n",
      " 12  engine_type                       58592 non-null  object \n",
      " 13  airbags                           58592 non-null  int64  \n",
      " 14  is_esc                            58592 non-null  object \n",
      " 15  is_adjustable_steering            58592 non-null  object \n",
      " 16  is_tpms                           58592 non-null  object \n",
      " 17  is_parking_sensors                58592 non-null  object \n",
      " 18  is_parking_camera                 58592 non-null  object \n",
      " 19  rear_brakes_type                  58592 non-null  object \n",
      " 20  displacement                      58592 non-null  int64  \n",
      " 21  cylinder                          58592 non-null  int64  \n",
      " 22  transmission_type                 58592 non-null  object \n",
      " 23  gear_box                          58592 non-null  int64  \n",
      " 24  steering_type                     58592 non-null  object \n",
      " 25  turning_radius                    58592 non-null  float64\n",
      " 26  length                            58592 non-null  int64  \n",
      " 27  width                             58592 non-null  int64  \n",
      " 28  height                            58592 non-null  int64  \n",
      " 29  gross_weight                      58592 non-null  int64  \n",
      " 30  is_front_fog_lights               58592 non-null  object \n",
      " 31  is_rear_window_wiper              58592 non-null  object \n",
      " 32  is_rear_window_washer             58592 non-null  object \n",
      " 33  is_rear_window_defogger           58592 non-null  object \n",
      " 34  is_brake_assist                   58592 non-null  object \n",
      " 35  is_power_door_locks               58592 non-null  object \n",
      " 36  is_central_locking                58592 non-null  object \n",
      " 37  is_power_steering                 58592 non-null  object \n",
      " 38  is_driver_seat_height_adjustable  58592 non-null  object \n",
      " 39  is_day_night_rear_view_mirror     58592 non-null  object \n",
      " 40  is_ecw                            58592 non-null  object \n",
      " 41  is_speed_alert                    58592 non-null  object \n",
      " 42  ncap_rating                       58592 non-null  int64  \n",
      " 43  is_claim                          58592 non-null  int64  \n",
      "dtypes: float64(4), int64(12), object(28)\n",
      "memory usage: 19.7+ MB\n"
     ]
    }
   ],
   "source": [
    "df.info()"
   ]
  },
  {
   "cell_type": "code",
   "execution_count": 7,
   "id": "12aab936",
   "metadata": {},
   "outputs": [
    {
     "data": {
      "text/plain": [
       "policy_id                           0\n",
       "policy_tenure                       0\n",
       "age_of_car                          0\n",
       "age_of_policyholder                 0\n",
       "area_cluster                        0\n",
       "population_density                  0\n",
       "make                                0\n",
       "segment                             0\n",
       "model                               0\n",
       "fuel_type                           0\n",
       "max_torque                          0\n",
       "max_power                           0\n",
       "engine_type                         0\n",
       "airbags                             0\n",
       "is_esc                              0\n",
       "is_adjustable_steering              0\n",
       "is_tpms                             0\n",
       "is_parking_sensors                  0\n",
       "is_parking_camera                   0\n",
       "rear_brakes_type                    0\n",
       "displacement                        0\n",
       "cylinder                            0\n",
       "transmission_type                   0\n",
       "gear_box                            0\n",
       "steering_type                       0\n",
       "turning_radius                      0\n",
       "length                              0\n",
       "width                               0\n",
       "height                              0\n",
       "gross_weight                        0\n",
       "is_front_fog_lights                 0\n",
       "is_rear_window_wiper                0\n",
       "is_rear_window_washer               0\n",
       "is_rear_window_defogger             0\n",
       "is_brake_assist                     0\n",
       "is_power_door_locks                 0\n",
       "is_central_locking                  0\n",
       "is_power_steering                   0\n",
       "is_driver_seat_height_adjustable    0\n",
       "is_day_night_rear_view_mirror       0\n",
       "is_ecw                              0\n",
       "is_speed_alert                      0\n",
       "ncap_rating                         0\n",
       "is_claim                            0\n",
       "dtype: int64"
      ]
     },
     "execution_count": 7,
     "metadata": {},
     "output_type": "execute_result"
    }
   ],
   "source": [
    "df.isnull().sum()"
   ]
  },
  {
   "cell_type": "code",
   "execution_count": 8,
   "id": "648bedbf",
   "metadata": {},
   "outputs": [
    {
     "data": {
      "text/plain": [
       "policy_id                           58592\n",
       "policy_tenure                       58592\n",
       "age_of_car                             49\n",
       "age_of_policyholder                    75\n",
       "area_cluster                           22\n",
       "population_density                     22\n",
       "make                                    5\n",
       "segment                                 6\n",
       "model                                  11\n",
       "fuel_type                               3\n",
       "max_torque                              9\n",
       "max_power                               9\n",
       "engine_type                            11\n",
       "airbags                                 3\n",
       "is_esc                                  2\n",
       "is_adjustable_steering                  2\n",
       "is_tpms                                 2\n",
       "is_parking_sensors                      2\n",
       "is_parking_camera                       2\n",
       "rear_brakes_type                        2\n",
       "displacement                            9\n",
       "cylinder                                2\n",
       "transmission_type                       2\n",
       "gear_box                                2\n",
       "steering_type                           3\n",
       "turning_radius                          9\n",
       "length                                  9\n",
       "width                                  10\n",
       "height                                 11\n",
       "gross_weight                           10\n",
       "is_front_fog_lights                     2\n",
       "is_rear_window_wiper                    2\n",
       "is_rear_window_washer                   2\n",
       "is_rear_window_defogger                 2\n",
       "is_brake_assist                         2\n",
       "is_power_door_locks                     2\n",
       "is_central_locking                      2\n",
       "is_power_steering                       2\n",
       "is_driver_seat_height_adjustable        2\n",
       "is_day_night_rear_view_mirror           2\n",
       "is_ecw                                  2\n",
       "is_speed_alert                          2\n",
       "ncap_rating                             5\n",
       "is_claim                                2\n",
       "dtype: int64"
      ]
     },
     "execution_count": 8,
     "metadata": {},
     "output_type": "execute_result"
    }
   ],
   "source": [
    "df.nunique()"
   ]
  },
  {
   "cell_type": "markdown",
   "id": "d78dddf7",
   "metadata": {},
   "source": [
    "### I'm feeling that few columns are contributing less to our output, so I'm dropping them.\n",
    "### All binary fields with 'Yes/No' values were converted into '1/0'\n",
    "### remaining category features were converted accordng to their number of categories"
   ]
  },
  {
   "cell_type": "code",
   "execution_count": 121,
   "id": "33650ba0",
   "metadata": {},
   "outputs": [],
   "source": [
    "df=df.drop(['policy_id','area_cluster','population_density','segment','airbags','length','height','width','gross_weight','displacement','model'],axis=1)"
   ]
  },
  {
   "cell_type": "code",
   "execution_count": 122,
   "id": "624a9bb6",
   "metadata": {},
   "outputs": [],
   "source": [
    "def encoding(df):\n",
    "    new={'No':0,'Yes':1}\n",
    "    brake={'Drum':0,'Disc':1}\n",
    "    tmsion={'Manual':0,'Automatic':1}\n",
    "    st={'Power':0,'Electric':1,'Manual':2}\n",
    "    fuel={'CNG':0, 'Petrol':1, 'Diesel':2}\n",
    "    et={'F8D Petrol Engine':0, '1.2 L K12N Dualjet':1,'1.0 SCe':2,'1.5 L U2 CRDi':3,'1.5 Turbocharged Revotorq':4,'K Series Dual jet':5,'1.2 L K Series Engine':6,'K10C':7,'i-DTEC':8,'G12B':9,'1.5 Turbocharged Revotron':10}\n",
    "    #eg={'A':0,'C1':1,'C2':2,'B2':3,'B1':4,'Utility':5}\n",
    "    df['is_esc']=df['is_esc'].map(new)\n",
    "    df['is_adjustable_steering']=df['is_adjustable_steering'].map(new)\n",
    "    df['is_tpms']=df['is_tpms'].map(new)\n",
    "    df['is_parking_sensors']=df['is_parking_sensors'].map(new)\n",
    "    df['is_parking_camera']=df['is_parking_camera'].map(new)\n",
    "    df['rear_brakes_type']=df['rear_brakes_type'].map(brake)\n",
    "    df['transmission_type']=df['transmission_type'].map(tmsion)\n",
    "    df['steering_type']=df['steering_type'].map(st)\n",
    "    df['is_front_fog_lights']=df['is_front_fog_lights'].map(new)\n",
    "    df['is_rear_window_wiper']=df['is_rear_window_wiper'].map(new)\n",
    "    df['is_rear_window_washer']=df['is_rear_window_washer'].map(new)\n",
    "    df['is_rear_window_defogger']=df['is_rear_window_defogger'].map(new)\n",
    "    df['is_brake_assist']=df['is_brake_assist'].map(new)\n",
    "    df['is_power_door_locks']=df['is_power_door_locks'].map(new)\n",
    "    df['is_central_locking']=df['is_central_locking'].map(new)\n",
    "    df['is_power_steering']=df['is_power_steering'].map(new)\n",
    "    df['is_driver_seat_height_adjustable']=df['is_driver_seat_height_adjustable'].map(new)\n",
    "    df['is_day_night_rear_view_mirror']=df['is_day_night_rear_view_mirror'].map(new)\n",
    "    df['is_ecw']=df['is_ecw'].map(new)\n",
    "    df['is_speed_alert']=df['is_speed_alert'].map(new)\n",
    "    df['max_torque']=df['max_torque'].apply(lambda x: x[0:len(x)-10])\n",
    "    df['max_power']=df['max_power'].apply(lambda x: x[0:len(x)-11])\n",
    "    df['fuel_type']=df['fuel_type'].map(fuel)\n",
    "    df['engine_type']=df['engine_type'].map(et)\n",
    "    #f['segment']=df['segment'].map(seg)\n",
    "    \n",
    "    \n",
    "    return df"
   ]
  },
  {
   "cell_type": "code",
   "execution_count": 123,
   "id": "96f446b4",
   "metadata": {},
   "outputs": [
    {
     "data": {
      "text/html": [
       "<div>\n",
       "<style scoped>\n",
       "    .dataframe tbody tr th:only-of-type {\n",
       "        vertical-align: middle;\n",
       "    }\n",
       "\n",
       "    .dataframe tbody tr th {\n",
       "        vertical-align: top;\n",
       "    }\n",
       "\n",
       "    .dataframe thead th {\n",
       "        text-align: right;\n",
       "    }\n",
       "</style>\n",
       "<table border=\"1\" class=\"dataframe\">\n",
       "  <thead>\n",
       "    <tr style=\"text-align: right;\">\n",
       "      <th></th>\n",
       "      <th>policy_tenure</th>\n",
       "      <th>age_of_car</th>\n",
       "      <th>age_of_policyholder</th>\n",
       "      <th>make</th>\n",
       "      <th>fuel_type</th>\n",
       "      <th>max_torque</th>\n",
       "      <th>max_power</th>\n",
       "      <th>engine_type</th>\n",
       "      <th>is_esc</th>\n",
       "      <th>is_adjustable_steering</th>\n",
       "      <th>...</th>\n",
       "      <th>is_brake_assist</th>\n",
       "      <th>is_power_door_locks</th>\n",
       "      <th>is_central_locking</th>\n",
       "      <th>is_power_steering</th>\n",
       "      <th>is_driver_seat_height_adjustable</th>\n",
       "      <th>is_day_night_rear_view_mirror</th>\n",
       "      <th>is_ecw</th>\n",
       "      <th>is_speed_alert</th>\n",
       "      <th>ncap_rating</th>\n",
       "      <th>is_claim</th>\n",
       "    </tr>\n",
       "  </thead>\n",
       "  <tbody>\n",
       "    <tr>\n",
       "      <th>0</th>\n",
       "      <td>0.515874</td>\n",
       "      <td>0.05</td>\n",
       "      <td>0.644231</td>\n",
       "      <td>1</td>\n",
       "      <td>0</td>\n",
       "      <td>60.0</td>\n",
       "      <td>40.36</td>\n",
       "      <td>0</td>\n",
       "      <td>0</td>\n",
       "      <td>0</td>\n",
       "      <td>...</td>\n",
       "      <td>0</td>\n",
       "      <td>0</td>\n",
       "      <td>0</td>\n",
       "      <td>1</td>\n",
       "      <td>0</td>\n",
       "      <td>0</td>\n",
       "      <td>0</td>\n",
       "      <td>1</td>\n",
       "      <td>0</td>\n",
       "      <td>0</td>\n",
       "    </tr>\n",
       "    <tr>\n",
       "      <th>1</th>\n",
       "      <td>0.672619</td>\n",
       "      <td>0.02</td>\n",
       "      <td>0.375000</td>\n",
       "      <td>1</td>\n",
       "      <td>0</td>\n",
       "      <td>60.0</td>\n",
       "      <td>40.36</td>\n",
       "      <td>0</td>\n",
       "      <td>0</td>\n",
       "      <td>0</td>\n",
       "      <td>...</td>\n",
       "      <td>0</td>\n",
       "      <td>0</td>\n",
       "      <td>0</td>\n",
       "      <td>1</td>\n",
       "      <td>0</td>\n",
       "      <td>0</td>\n",
       "      <td>0</td>\n",
       "      <td>1</td>\n",
       "      <td>0</td>\n",
       "      <td>0</td>\n",
       "    </tr>\n",
       "    <tr>\n",
       "      <th>2</th>\n",
       "      <td>0.841110</td>\n",
       "      <td>0.02</td>\n",
       "      <td>0.384615</td>\n",
       "      <td>1</td>\n",
       "      <td>0</td>\n",
       "      <td>60.0</td>\n",
       "      <td>40.36</td>\n",
       "      <td>0</td>\n",
       "      <td>0</td>\n",
       "      <td>0</td>\n",
       "      <td>...</td>\n",
       "      <td>0</td>\n",
       "      <td>0</td>\n",
       "      <td>0</td>\n",
       "      <td>1</td>\n",
       "      <td>0</td>\n",
       "      <td>0</td>\n",
       "      <td>0</td>\n",
       "      <td>1</td>\n",
       "      <td>0</td>\n",
       "      <td>0</td>\n",
       "    </tr>\n",
       "    <tr>\n",
       "      <th>3</th>\n",
       "      <td>0.900277</td>\n",
       "      <td>0.11</td>\n",
       "      <td>0.432692</td>\n",
       "      <td>1</td>\n",
       "      <td>1</td>\n",
       "      <td>113.0</td>\n",
       "      <td>88.50</td>\n",
       "      <td>1</td>\n",
       "      <td>1</td>\n",
       "      <td>1</td>\n",
       "      <td>...</td>\n",
       "      <td>1</td>\n",
       "      <td>1</td>\n",
       "      <td>1</td>\n",
       "      <td>1</td>\n",
       "      <td>1</td>\n",
       "      <td>1</td>\n",
       "      <td>1</td>\n",
       "      <td>1</td>\n",
       "      <td>2</td>\n",
       "      <td>0</td>\n",
       "    </tr>\n",
       "    <tr>\n",
       "      <th>4</th>\n",
       "      <td>0.596403</td>\n",
       "      <td>0.11</td>\n",
       "      <td>0.634615</td>\n",
       "      <td>2</td>\n",
       "      <td>1</td>\n",
       "      <td>91.0</td>\n",
       "      <td>67.06</td>\n",
       "      <td>2</td>\n",
       "      <td>0</td>\n",
       "      <td>0</td>\n",
       "      <td>...</td>\n",
       "      <td>0</td>\n",
       "      <td>1</td>\n",
       "      <td>1</td>\n",
       "      <td>1</td>\n",
       "      <td>0</td>\n",
       "      <td>1</td>\n",
       "      <td>1</td>\n",
       "      <td>1</td>\n",
       "      <td>2</td>\n",
       "      <td>0</td>\n",
       "    </tr>\n",
       "  </tbody>\n",
       "</table>\n",
       "<p>5 rows × 33 columns</p>\n",
       "</div>"
      ],
      "text/plain": [
       "   policy_tenure  age_of_car  age_of_policyholder  make  fuel_type  \\\n",
       "0       0.515874        0.05             0.644231     1          0   \n",
       "1       0.672619        0.02             0.375000     1          0   \n",
       "2       0.841110        0.02             0.384615     1          0   \n",
       "3       0.900277        0.11             0.432692     1          1   \n",
       "4       0.596403        0.11             0.634615     2          1   \n",
       "\n",
       "   max_torque  max_power  engine_type  is_esc  is_adjustable_steering  ...  \\\n",
       "0        60.0      40.36            0       0                       0  ...   \n",
       "1        60.0      40.36            0       0                       0  ...   \n",
       "2        60.0      40.36            0       0                       0  ...   \n",
       "3       113.0      88.50            1       1                       1  ...   \n",
       "4        91.0      67.06            2       0                       0  ...   \n",
       "\n",
       "   is_brake_assist  is_power_door_locks  is_central_locking  \\\n",
       "0                0                    0                   0   \n",
       "1                0                    0                   0   \n",
       "2                0                    0                   0   \n",
       "3                1                    1                   1   \n",
       "4                0                    1                   1   \n",
       "\n",
       "   is_power_steering  is_driver_seat_height_adjustable  \\\n",
       "0                  1                                 0   \n",
       "1                  1                                 0   \n",
       "2                  1                                 0   \n",
       "3                  1                                 1   \n",
       "4                  1                                 0   \n",
       "\n",
       "   is_day_night_rear_view_mirror  is_ecw  is_speed_alert  ncap_rating  \\\n",
       "0                              0       0               1            0   \n",
       "1                              0       0               1            0   \n",
       "2                              0       0               1            0   \n",
       "3                              1       1               1            2   \n",
       "4                              1       1               1            2   \n",
       "\n",
       "   is_claim  \n",
       "0         0  \n",
       "1         0  \n",
       "2         0  \n",
       "3         0  \n",
       "4         0  \n",
       "\n",
       "[5 rows x 33 columns]"
      ]
     },
     "execution_count": 123,
     "metadata": {},
     "output_type": "execute_result"
    }
   ],
   "source": [
    "df_update=encoding(df)\n",
    "df['max_torque']=df['max_torque'].astype(float)\n",
    "df['max_power']=df['max_power'].astype(float)\n",
    "df_update.head()"
   ]
  },
  {
   "cell_type": "code",
   "execution_count": 73,
   "id": "19c0a3a6",
   "metadata": {},
   "outputs": [
    {
     "name": "stdout",
     "output_type": "stream",
     "text": [
      "<class 'pandas.core.frame.DataFrame'>\n",
      "RangeIndex: 58592 entries, 0 to 58591\n",
      "Data columns (total 33 columns):\n",
      " #   Column                            Non-Null Count  Dtype  \n",
      "---  ------                            --------------  -----  \n",
      " 0   policy_tenure                     58592 non-null  float64\n",
      " 1   age_of_car                        58592 non-null  float64\n",
      " 2   age_of_policyholder               58592 non-null  float64\n",
      " 3   make                              58592 non-null  int64  \n",
      " 4   fuel_type                         58592 non-null  int64  \n",
      " 5   max_torque                        58592 non-null  float64\n",
      " 6   max_power                         58592 non-null  float64\n",
      " 7   engine_type                       58592 non-null  int64  \n",
      " 8   is_esc                            58592 non-null  int64  \n",
      " 9   is_adjustable_steering            58592 non-null  int64  \n",
      " 10  is_tpms                           58592 non-null  int64  \n",
      " 11  is_parking_sensors                58592 non-null  int64  \n",
      " 12  is_parking_camera                 58592 non-null  int64  \n",
      " 13  rear_brakes_type                  58592 non-null  int64  \n",
      " 14  cylinder                          58592 non-null  int64  \n",
      " 15  transmission_type                 58592 non-null  int64  \n",
      " 16  gear_box                          58592 non-null  int64  \n",
      " 17  steering_type                     58592 non-null  int64  \n",
      " 18  turning_radius                    58592 non-null  float64\n",
      " 19  is_front_fog_lights               58592 non-null  int64  \n",
      " 20  is_rear_window_wiper              58592 non-null  int64  \n",
      " 21  is_rear_window_washer             58592 non-null  int64  \n",
      " 22  is_rear_window_defogger           58592 non-null  int64  \n",
      " 23  is_brake_assist                   58592 non-null  int64  \n",
      " 24  is_power_door_locks               58592 non-null  int64  \n",
      " 25  is_central_locking                58592 non-null  int64  \n",
      " 26  is_power_steering                 58592 non-null  int64  \n",
      " 27  is_driver_seat_height_adjustable  58592 non-null  int64  \n",
      " 28  is_day_night_rear_view_mirror     58592 non-null  int64  \n",
      " 29  is_ecw                            58592 non-null  int64  \n",
      " 30  is_speed_alert                    58592 non-null  int64  \n",
      " 31  ncap_rating                       58592 non-null  int64  \n",
      " 32  is_claim                          58592 non-null  int64  \n",
      "dtypes: float64(6), int64(27)\n",
      "memory usage: 14.8 MB\n"
     ]
    }
   ],
   "source": [
    "df_update.info()"
   ]
  },
  {
   "cell_type": "code",
   "execution_count": 13,
   "id": "42dbc007",
   "metadata": {},
   "outputs": [
    {
     "data": {
      "text/plain": [
       "(58592, 33)"
      ]
     },
     "execution_count": 13,
     "metadata": {},
     "output_type": "execute_result"
    }
   ],
   "source": [
    "df_update.shape"
   ]
  },
  {
   "cell_type": "code",
   "execution_count": 81,
   "id": "03401576",
   "metadata": {},
   "outputs": [
    {
     "name": "stdout",
     "output_type": "stream",
     "text": [
      "(54844, 33)\n",
      "(3748, 33)\n"
     ]
    }
   ],
   "source": [
    "# class_count_0,class_count_1=df_update['is_claim'].value_counts()\n",
    "# class_0=df_update[df_update['is_claim']==0]\n",
    "# class_1=df_update[df_update['is_claim']==1]\n",
    "# print(class_0.shape)\n",
    "# print(class_1.shape)"
   ]
  },
  {
   "cell_type": "code",
   "execution_count": 82,
   "id": "c25d30b6",
   "metadata": {},
   "outputs": [
    {
     "name": "stdout",
     "output_type": "stream",
     "text": [
      "total class of 1 and0: 0    3748\n",
      "1    3748\n",
      "Name: is_claim, dtype: int64\n"
     ]
    }
   ],
   "source": [
    "# class_0_under = class_0.sample(class_count_1)\n",
    "# test_under = pd.concat([class_0_under, class_1], axis=0)\n",
    "# print(\"total class of 1 and0:\",test_under['is_claim'].value_counts())"
   ]
  },
  {
   "cell_type": "markdown",
   "id": "963de39f",
   "metadata": {},
   "source": [
    "### We will build few models like LogisticRegression, RandomForest , XGBoost, CatBoost and will measure their performance using accuracy_score, confusion_matrix, F1 score."
   ]
  },
  {
   "cell_type": "code",
   "execution_count": 87,
   "id": "1f1b3a9a",
   "metadata": {},
   "outputs": [],
   "source": [
    "from sklearn.metrics import accuracy_score"
   ]
  },
  {
   "cell_type": "code",
   "execution_count": 88,
   "id": "83528454",
   "metadata": {},
   "outputs": [],
   "source": [
    "from sklearn.metrics import confusion_matrix,f1_score"
   ]
  },
  {
   "cell_type": "code",
   "execution_count": 22,
   "id": "94400a8d",
   "metadata": {},
   "outputs": [],
   "source": [
    "# from sklearn.preprocessing import StandardScaler\n",
    "# sc=StandardScaler()"
   ]
  },
  {
   "cell_type": "code",
   "execution_count": 124,
   "id": "be72cd20",
   "metadata": {},
   "outputs": [],
   "source": [
    "X=df_update.drop('is_claim',axis=1)\n",
    "y=df_update['is_claim']"
   ]
  },
  {
   "cell_type": "code",
   "execution_count": 23,
   "id": "5ac4da14",
   "metadata": {},
   "outputs": [
    {
     "data": {
      "text/plain": [
       "array([[ 0.05941385,  0.59499645, -1.09555086, ...,  0.59912917,\n",
       "         0.0750637 ,  0.88345361],\n",
       "       [-1.08129807,  0.59499645, -0.47705381, ..., -1.66908915,\n",
       "         0.0750637 , -1.28828937],\n",
       "       [-1.00179509, -0.31311395,  0.7599403 , ...,  0.59912917,\n",
       "         0.0750637 ,  0.15953928],\n",
       "       ...,\n",
       "       [-1.28736994, -1.22122435, -0.86361446, ..., -1.66908915,\n",
       "         0.0750637 , -1.28828937],\n",
       "       [-0.97506586,  0.05013021,  0.68262817, ...,  0.59912917,\n",
       "         0.0750637 ,  0.88345361],\n",
       "       [-1.43800754, -0.31311395, -0.94092659, ...,  0.59912917,\n",
       "         0.0750637 ,  0.88345361]])"
      ]
     },
     "execution_count": 23,
     "metadata": {},
     "output_type": "execute_result"
    }
   ],
   "source": [
    "# X=sc.fit_transform(test_under.drop('is_claim',axis=1))\n",
    "# y=test_under['is_claim']\n",
    "# X"
   ]
  },
  {
   "cell_type": "code",
   "execution_count": 27,
   "id": "c0b7a8a2",
   "metadata": {},
   "outputs": [],
   "source": [
    "from sklearn.model_selection import train_test_split"
   ]
  },
  {
   "cell_type": "code",
   "execution_count": 125,
   "id": "75dcdaa8",
   "metadata": {},
   "outputs": [],
   "source": [
    "X_train,X_test,y_train,y_test=train_test_split(X,y,test_size=0.3,random_state=7)"
   ]
  },
  {
   "cell_type": "code",
   "execution_count": 126,
   "id": "0817fc13",
   "metadata": {},
   "outputs": [
    {
     "data": {
      "text/html": [
       "<div>\n",
       "<style scoped>\n",
       "    .dataframe tbody tr th:only-of-type {\n",
       "        vertical-align: middle;\n",
       "    }\n",
       "\n",
       "    .dataframe tbody tr th {\n",
       "        vertical-align: top;\n",
       "    }\n",
       "\n",
       "    .dataframe thead th {\n",
       "        text-align: right;\n",
       "    }\n",
       "</style>\n",
       "<table border=\"1\" class=\"dataframe\">\n",
       "  <thead>\n",
       "    <tr style=\"text-align: right;\">\n",
       "      <th></th>\n",
       "      <th>policy_tenure</th>\n",
       "      <th>age_of_car</th>\n",
       "      <th>age_of_policyholder</th>\n",
       "      <th>make</th>\n",
       "      <th>fuel_type</th>\n",
       "      <th>max_torque</th>\n",
       "      <th>max_power</th>\n",
       "      <th>engine_type</th>\n",
       "      <th>is_esc</th>\n",
       "      <th>is_adjustable_steering</th>\n",
       "      <th>...</th>\n",
       "      <th>is_rear_window_defogger</th>\n",
       "      <th>is_brake_assist</th>\n",
       "      <th>is_power_door_locks</th>\n",
       "      <th>is_central_locking</th>\n",
       "      <th>is_power_steering</th>\n",
       "      <th>is_driver_seat_height_adjustable</th>\n",
       "      <th>is_day_night_rear_view_mirror</th>\n",
       "      <th>is_ecw</th>\n",
       "      <th>is_speed_alert</th>\n",
       "      <th>ncap_rating</th>\n",
       "    </tr>\n",
       "  </thead>\n",
       "  <tbody>\n",
       "    <tr>\n",
       "      <th>48548</th>\n",
       "      <td>0.296417</td>\n",
       "      <td>0.01</td>\n",
       "      <td>0.413462</td>\n",
       "      <td>4</td>\n",
       "      <td>2</td>\n",
       "      <td>200.0</td>\n",
       "      <td>88.77</td>\n",
       "      <td>4</td>\n",
       "      <td>0</td>\n",
       "      <td>1</td>\n",
       "      <td>...</td>\n",
       "      <td>0</td>\n",
       "      <td>0</td>\n",
       "      <td>1</td>\n",
       "      <td>1</td>\n",
       "      <td>1</td>\n",
       "      <td>0</td>\n",
       "      <td>0</td>\n",
       "      <td>1</td>\n",
       "      <td>1</td>\n",
       "      <td>5</td>\n",
       "    </tr>\n",
       "    <tr>\n",
       "      <th>16991</th>\n",
       "      <td>0.159730</td>\n",
       "      <td>0.00</td>\n",
       "      <td>0.384615</td>\n",
       "      <td>1</td>\n",
       "      <td>0</td>\n",
       "      <td>60.0</td>\n",
       "      <td>40.36</td>\n",
       "      <td>0</td>\n",
       "      <td>0</td>\n",
       "      <td>0</td>\n",
       "      <td>...</td>\n",
       "      <td>0</td>\n",
       "      <td>0</td>\n",
       "      <td>0</td>\n",
       "      <td>0</td>\n",
       "      <td>1</td>\n",
       "      <td>0</td>\n",
       "      <td>0</td>\n",
       "      <td>0</td>\n",
       "      <td>1</td>\n",
       "      <td>0</td>\n",
       "    </tr>\n",
       "    <tr>\n",
       "      <th>42426</th>\n",
       "      <td>1.050171</td>\n",
       "      <td>0.18</td>\n",
       "      <td>0.346154</td>\n",
       "      <td>3</td>\n",
       "      <td>2</td>\n",
       "      <td>250.0</td>\n",
       "      <td>113.45</td>\n",
       "      <td>3</td>\n",
       "      <td>1</td>\n",
       "      <td>1</td>\n",
       "      <td>...</td>\n",
       "      <td>1</td>\n",
       "      <td>1</td>\n",
       "      <td>1</td>\n",
       "      <td>1</td>\n",
       "      <td>1</td>\n",
       "      <td>1</td>\n",
       "      <td>0</td>\n",
       "      <td>1</td>\n",
       "      <td>1</td>\n",
       "      <td>3</td>\n",
       "    </tr>\n",
       "    <tr>\n",
       "      <th>51512</th>\n",
       "      <td>0.939314</td>\n",
       "      <td>0.01</td>\n",
       "      <td>0.528846</td>\n",
       "      <td>1</td>\n",
       "      <td>0</td>\n",
       "      <td>60.0</td>\n",
       "      <td>40.36</td>\n",
       "      <td>0</td>\n",
       "      <td>0</td>\n",
       "      <td>0</td>\n",
       "      <td>...</td>\n",
       "      <td>0</td>\n",
       "      <td>0</td>\n",
       "      <td>0</td>\n",
       "      <td>0</td>\n",
       "      <td>1</td>\n",
       "      <td>0</td>\n",
       "      <td>0</td>\n",
       "      <td>0</td>\n",
       "      <td>1</td>\n",
       "      <td>0</td>\n",
       "    </tr>\n",
       "    <tr>\n",
       "      <th>1328</th>\n",
       "      <td>0.970928</td>\n",
       "      <td>0.07</td>\n",
       "      <td>0.490385</td>\n",
       "      <td>1</td>\n",
       "      <td>1</td>\n",
       "      <td>113.0</td>\n",
       "      <td>88.50</td>\n",
       "      <td>6</td>\n",
       "      <td>1</td>\n",
       "      <td>1</td>\n",
       "      <td>...</td>\n",
       "      <td>1</td>\n",
       "      <td>1</td>\n",
       "      <td>1</td>\n",
       "      <td>1</td>\n",
       "      <td>1</td>\n",
       "      <td>1</td>\n",
       "      <td>1</td>\n",
       "      <td>1</td>\n",
       "      <td>1</td>\n",
       "      <td>0</td>\n",
       "    </tr>\n",
       "    <tr>\n",
       "      <th>...</th>\n",
       "      <td>...</td>\n",
       "      <td>...</td>\n",
       "      <td>...</td>\n",
       "      <td>...</td>\n",
       "      <td>...</td>\n",
       "      <td>...</td>\n",
       "      <td>...</td>\n",
       "      <td>...</td>\n",
       "      <td>...</td>\n",
       "      <td>...</td>\n",
       "      <td>...</td>\n",
       "      <td>...</td>\n",
       "      <td>...</td>\n",
       "      <td>...</td>\n",
       "      <td>...</td>\n",
       "      <td>...</td>\n",
       "      <td>...</td>\n",
       "      <td>...</td>\n",
       "      <td>...</td>\n",
       "      <td>...</td>\n",
       "      <td>...</td>\n",
       "    </tr>\n",
       "    <tr>\n",
       "      <th>53459</th>\n",
       "      <td>0.417654</td>\n",
       "      <td>0.00</td>\n",
       "      <td>0.403846</td>\n",
       "      <td>1</td>\n",
       "      <td>0</td>\n",
       "      <td>60.0</td>\n",
       "      <td>40.36</td>\n",
       "      <td>0</td>\n",
       "      <td>0</td>\n",
       "      <td>0</td>\n",
       "      <td>...</td>\n",
       "      <td>0</td>\n",
       "      <td>0</td>\n",
       "      <td>0</td>\n",
       "      <td>0</td>\n",
       "      <td>1</td>\n",
       "      <td>0</td>\n",
       "      <td>0</td>\n",
       "      <td>0</td>\n",
       "      <td>1</td>\n",
       "      <td>0</td>\n",
       "    </tr>\n",
       "    <tr>\n",
       "      <th>38467</th>\n",
       "      <td>0.137761</td>\n",
       "      <td>0.04</td>\n",
       "      <td>0.288462</td>\n",
       "      <td>1</td>\n",
       "      <td>0</td>\n",
       "      <td>60.0</td>\n",
       "      <td>40.36</td>\n",
       "      <td>0</td>\n",
       "      <td>0</td>\n",
       "      <td>0</td>\n",
       "      <td>...</td>\n",
       "      <td>0</td>\n",
       "      <td>0</td>\n",
       "      <td>0</td>\n",
       "      <td>0</td>\n",
       "      <td>1</td>\n",
       "      <td>0</td>\n",
       "      <td>0</td>\n",
       "      <td>0</td>\n",
       "      <td>1</td>\n",
       "      <td>0</td>\n",
       "    </tr>\n",
       "    <tr>\n",
       "      <th>10742</th>\n",
       "      <td>1.209583</td>\n",
       "      <td>0.13</td>\n",
       "      <td>0.586538</td>\n",
       "      <td>1</td>\n",
       "      <td>1</td>\n",
       "      <td>113.0</td>\n",
       "      <td>88.50</td>\n",
       "      <td>5</td>\n",
       "      <td>0</td>\n",
       "      <td>1</td>\n",
       "      <td>...</td>\n",
       "      <td>0</td>\n",
       "      <td>1</td>\n",
       "      <td>1</td>\n",
       "      <td>1</td>\n",
       "      <td>1</td>\n",
       "      <td>1</td>\n",
       "      <td>1</td>\n",
       "      <td>1</td>\n",
       "      <td>1</td>\n",
       "      <td>2</td>\n",
       "    </tr>\n",
       "    <tr>\n",
       "      <th>49689</th>\n",
       "      <td>0.220895</td>\n",
       "      <td>0.16</td>\n",
       "      <td>0.500000</td>\n",
       "      <td>1</td>\n",
       "      <td>1</td>\n",
       "      <td>113.0</td>\n",
       "      <td>88.50</td>\n",
       "      <td>5</td>\n",
       "      <td>0</td>\n",
       "      <td>1</td>\n",
       "      <td>...</td>\n",
       "      <td>0</td>\n",
       "      <td>1</td>\n",
       "      <td>1</td>\n",
       "      <td>1</td>\n",
       "      <td>1</td>\n",
       "      <td>1</td>\n",
       "      <td>1</td>\n",
       "      <td>1</td>\n",
       "      <td>1</td>\n",
       "      <td>2</td>\n",
       "    </tr>\n",
       "    <tr>\n",
       "      <th>58564</th>\n",
       "      <td>0.421275</td>\n",
       "      <td>0.02</td>\n",
       "      <td>0.346154</td>\n",
       "      <td>1</td>\n",
       "      <td>0</td>\n",
       "      <td>60.0</td>\n",
       "      <td>40.36</td>\n",
       "      <td>0</td>\n",
       "      <td>0</td>\n",
       "      <td>0</td>\n",
       "      <td>...</td>\n",
       "      <td>0</td>\n",
       "      <td>0</td>\n",
       "      <td>0</td>\n",
       "      <td>0</td>\n",
       "      <td>1</td>\n",
       "      <td>0</td>\n",
       "      <td>0</td>\n",
       "      <td>0</td>\n",
       "      <td>1</td>\n",
       "      <td>0</td>\n",
       "    </tr>\n",
       "  </tbody>\n",
       "</table>\n",
       "<p>41014 rows × 32 columns</p>\n",
       "</div>"
      ],
      "text/plain": [
       "       policy_tenure  age_of_car  age_of_policyholder  make  fuel_type  \\\n",
       "48548       0.296417        0.01             0.413462     4          2   \n",
       "16991       0.159730        0.00             0.384615     1          0   \n",
       "42426       1.050171        0.18             0.346154     3          2   \n",
       "51512       0.939314        0.01             0.528846     1          0   \n",
       "1328        0.970928        0.07             0.490385     1          1   \n",
       "...              ...         ...                  ...   ...        ...   \n",
       "53459       0.417654        0.00             0.403846     1          0   \n",
       "38467       0.137761        0.04             0.288462     1          0   \n",
       "10742       1.209583        0.13             0.586538     1          1   \n",
       "49689       0.220895        0.16             0.500000     1          1   \n",
       "58564       0.421275        0.02             0.346154     1          0   \n",
       "\n",
       "       max_torque  max_power  engine_type  is_esc  is_adjustable_steering  \\\n",
       "48548       200.0      88.77            4       0                       1   \n",
       "16991        60.0      40.36            0       0                       0   \n",
       "42426       250.0     113.45            3       1                       1   \n",
       "51512        60.0      40.36            0       0                       0   \n",
       "1328        113.0      88.50            6       1                       1   \n",
       "...           ...        ...          ...     ...                     ...   \n",
       "53459        60.0      40.36            0       0                       0   \n",
       "38467        60.0      40.36            0       0                       0   \n",
       "10742       113.0      88.50            5       0                       1   \n",
       "49689       113.0      88.50            5       0                       1   \n",
       "58564        60.0      40.36            0       0                       0   \n",
       "\n",
       "       ...  is_rear_window_defogger  is_brake_assist  is_power_door_locks  \\\n",
       "48548  ...                        0                0                    1   \n",
       "16991  ...                        0                0                    0   \n",
       "42426  ...                        1                1                    1   \n",
       "51512  ...                        0                0                    0   \n",
       "1328   ...                        1                1                    1   \n",
       "...    ...                      ...              ...                  ...   \n",
       "53459  ...                        0                0                    0   \n",
       "38467  ...                        0                0                    0   \n",
       "10742  ...                        0                1                    1   \n",
       "49689  ...                        0                1                    1   \n",
       "58564  ...                        0                0                    0   \n",
       "\n",
       "       is_central_locking  is_power_steering  \\\n",
       "48548                   1                  1   \n",
       "16991                   0                  1   \n",
       "42426                   1                  1   \n",
       "51512                   0                  1   \n",
       "1328                    1                  1   \n",
       "...                   ...                ...   \n",
       "53459                   0                  1   \n",
       "38467                   0                  1   \n",
       "10742                   1                  1   \n",
       "49689                   1                  1   \n",
       "58564                   0                  1   \n",
       "\n",
       "       is_driver_seat_height_adjustable  is_day_night_rear_view_mirror  \\\n",
       "48548                                 0                              0   \n",
       "16991                                 0                              0   \n",
       "42426                                 1                              0   \n",
       "51512                                 0                              0   \n",
       "1328                                  1                              1   \n",
       "...                                 ...                            ...   \n",
       "53459                                 0                              0   \n",
       "38467                                 0                              0   \n",
       "10742                                 1                              1   \n",
       "49689                                 1                              1   \n",
       "58564                                 0                              0   \n",
       "\n",
       "       is_ecw  is_speed_alert  ncap_rating  \n",
       "48548       1               1            5  \n",
       "16991       0               1            0  \n",
       "42426       1               1            3  \n",
       "51512       0               1            0  \n",
       "1328        1               1            0  \n",
       "...       ...             ...          ...  \n",
       "53459       0               1            0  \n",
       "38467       0               1            0  \n",
       "10742       1               1            2  \n",
       "49689       1               1            2  \n",
       "58564       0               1            0  \n",
       "\n",
       "[41014 rows x 32 columns]"
      ]
     },
     "execution_count": 126,
     "metadata": {},
     "output_type": "execute_result"
    }
   ],
   "source": [
    "X_train"
   ]
  },
  {
   "cell_type": "code",
   "execution_count": 127,
   "id": "a7efad32",
   "metadata": {},
   "outputs": [
    {
     "name": "stdout",
     "output_type": "stream",
     "text": [
      "(41014, 32)\n",
      "(17578, 32)\n",
      "(41014,)\n",
      "(17578,)\n"
     ]
    }
   ],
   "source": [
    "print(X_train.shape)\n",
    "print(X_test.shape)\n",
    "print(y_train.shape)\n",
    "print(y_test.shape)"
   ]
  },
  {
   "cell_type": "markdown",
   "id": "83621365",
   "metadata": {},
   "source": [
    "### Logistic Regression "
   ]
  },
  {
   "cell_type": "code",
   "execution_count": 86,
   "id": "e7c6b9d6",
   "metadata": {},
   "outputs": [],
   "source": [
    "from sklearn.linear_model import LogisticRegression"
   ]
  },
  {
   "cell_type": "code",
   "execution_count": 128,
   "id": "96d29ba7",
   "metadata": {},
   "outputs": [
    {
     "name": "stderr",
     "output_type": "stream",
     "text": [
      "C:\\Users\\Dell\\AppData\\Local\\Programs\\Python\\Python310\\lib\\site-packages\\sklearn\\linear_model\\_logistic.py:444: ConvergenceWarning: lbfgs failed to converge (status=1):\n",
      "STOP: TOTAL NO. of ITERATIONS REACHED LIMIT.\n",
      "\n",
      "Increase the number of iterations (max_iter) or scale the data as shown in:\n",
      "    https://scikit-learn.org/stable/modules/preprocessing.html\n",
      "Please also refer to the documentation for alternative solver options:\n",
      "    https://scikit-learn.org/stable/modules/linear_model.html#logistic-regression\n",
      "  n_iter_i = _check_optimize_result(\n"
     ]
    },
    {
     "data": {
      "text/html": [
       "<style>#sk-container-id-11 {color: black;background-color: white;}#sk-container-id-11 pre{padding: 0;}#sk-container-id-11 div.sk-toggleable {background-color: white;}#sk-container-id-11 label.sk-toggleable__label {cursor: pointer;display: block;width: 100%;margin-bottom: 0;padding: 0.3em;box-sizing: border-box;text-align: center;}#sk-container-id-11 label.sk-toggleable__label-arrow:before {content: \"▸\";float: left;margin-right: 0.25em;color: #696969;}#sk-container-id-11 label.sk-toggleable__label-arrow:hover:before {color: black;}#sk-container-id-11 div.sk-estimator:hover label.sk-toggleable__label-arrow:before {color: black;}#sk-container-id-11 div.sk-toggleable__content {max-height: 0;max-width: 0;overflow: hidden;text-align: left;background-color: #f0f8ff;}#sk-container-id-11 div.sk-toggleable__content pre {margin: 0.2em;color: black;border-radius: 0.25em;background-color: #f0f8ff;}#sk-container-id-11 input.sk-toggleable__control:checked~div.sk-toggleable__content {max-height: 200px;max-width: 100%;overflow: auto;}#sk-container-id-11 input.sk-toggleable__control:checked~label.sk-toggleable__label-arrow:before {content: \"▾\";}#sk-container-id-11 div.sk-estimator input.sk-toggleable__control:checked~label.sk-toggleable__label {background-color: #d4ebff;}#sk-container-id-11 div.sk-label input.sk-toggleable__control:checked~label.sk-toggleable__label {background-color: #d4ebff;}#sk-container-id-11 input.sk-hidden--visually {border: 0;clip: rect(1px 1px 1px 1px);clip: rect(1px, 1px, 1px, 1px);height: 1px;margin: -1px;overflow: hidden;padding: 0;position: absolute;width: 1px;}#sk-container-id-11 div.sk-estimator {font-family: monospace;background-color: #f0f8ff;border: 1px dotted black;border-radius: 0.25em;box-sizing: border-box;margin-bottom: 0.5em;}#sk-container-id-11 div.sk-estimator:hover {background-color: #d4ebff;}#sk-container-id-11 div.sk-parallel-item::after {content: \"\";width: 100%;border-bottom: 1px solid gray;flex-grow: 1;}#sk-container-id-11 div.sk-label:hover label.sk-toggleable__label {background-color: #d4ebff;}#sk-container-id-11 div.sk-serial::before {content: \"\";position: absolute;border-left: 1px solid gray;box-sizing: border-box;top: 0;bottom: 0;left: 50%;z-index: 0;}#sk-container-id-11 div.sk-serial {display: flex;flex-direction: column;align-items: center;background-color: white;padding-right: 0.2em;padding-left: 0.2em;position: relative;}#sk-container-id-11 div.sk-item {position: relative;z-index: 1;}#sk-container-id-11 div.sk-parallel {display: flex;align-items: stretch;justify-content: center;background-color: white;position: relative;}#sk-container-id-11 div.sk-item::before, #sk-container-id-11 div.sk-parallel-item::before {content: \"\";position: absolute;border-left: 1px solid gray;box-sizing: border-box;top: 0;bottom: 0;left: 50%;z-index: -1;}#sk-container-id-11 div.sk-parallel-item {display: flex;flex-direction: column;z-index: 1;position: relative;background-color: white;}#sk-container-id-11 div.sk-parallel-item:first-child::after {align-self: flex-end;width: 50%;}#sk-container-id-11 div.sk-parallel-item:last-child::after {align-self: flex-start;width: 50%;}#sk-container-id-11 div.sk-parallel-item:only-child::after {width: 0;}#sk-container-id-11 div.sk-dashed-wrapped {border: 1px dashed gray;margin: 0 0.4em 0.5em 0.4em;box-sizing: border-box;padding-bottom: 0.4em;background-color: white;}#sk-container-id-11 div.sk-label label {font-family: monospace;font-weight: bold;display: inline-block;line-height: 1.2em;}#sk-container-id-11 div.sk-label-container {text-align: center;}#sk-container-id-11 div.sk-container {/* jupyter's `normalize.less` sets `[hidden] { display: none; }` but bootstrap.min.css set `[hidden] { display: none !important; }` so we also need the `!important` here to be able to override the default hidden behavior on the sphinx rendered scikit-learn.org. See: https://github.com/scikit-learn/scikit-learn/issues/21755 */display: inline-block !important;position: relative;}#sk-container-id-11 div.sk-text-repr-fallback {display: none;}</style><div id=\"sk-container-id-11\" class=\"sk-top-container\"><div class=\"sk-text-repr-fallback\"><pre>LogisticRegression()</pre><b>In a Jupyter environment, please rerun this cell to show the HTML representation or trust the notebook. <br />On GitHub, the HTML representation is unable to render, please try loading this page with nbviewer.org.</b></div><div class=\"sk-container\" hidden><div class=\"sk-item\"><div class=\"sk-estimator sk-toggleable\"><input class=\"sk-toggleable__control sk-hidden--visually\" id=\"sk-estimator-id-11\" type=\"checkbox\" checked><label for=\"sk-estimator-id-11\" class=\"sk-toggleable__label sk-toggleable__label-arrow\">LogisticRegression</label><div class=\"sk-toggleable__content\"><pre>LogisticRegression()</pre></div></div></div></div></div>"
      ],
      "text/plain": [
       "LogisticRegression()"
      ]
     },
     "execution_count": 128,
     "metadata": {},
     "output_type": "execute_result"
    }
   ],
   "source": [
    "lr=LogisticRegression()\n",
    "lr.fit(X_train,y_train)"
   ]
  },
  {
   "cell_type": "code",
   "execution_count": 129,
   "id": "20b7c381",
   "metadata": {},
   "outputs": [],
   "source": [
    "train_score=lr.predict(X_test)"
   ]
  },
  {
   "cell_type": "code",
   "execution_count": 130,
   "id": "ac481744",
   "metadata": {},
   "outputs": [
    {
     "data": {
      "text/plain": [
       "array([0, 0, 0, ..., 0, 0, 0], dtype=int64)"
      ]
     },
     "execution_count": 130,
     "metadata": {},
     "output_type": "execute_result"
    }
   ],
   "source": [
    "train_score"
   ]
  },
  {
   "cell_type": "code",
   "execution_count": 131,
   "id": "b1628240",
   "metadata": {},
   "outputs": [
    {
     "data": {
      "text/plain": [
       "0.9354875412447378"
      ]
     },
     "execution_count": 131,
     "metadata": {},
     "output_type": "execute_result"
    }
   ],
   "source": [
    "accuracy_score(y_test,train_score)"
   ]
  },
  {
   "cell_type": "code",
   "execution_count": 132,
   "id": "bf24d44a",
   "metadata": {},
   "outputs": [
    {
     "data": {
      "text/plain": [
       "array([[16444,     0],\n",
       "       [ 1134,     0]], dtype=int64)"
      ]
     },
     "execution_count": 132,
     "metadata": {},
     "output_type": "execute_result"
    }
   ],
   "source": [
    "confusion_matrix(y_test,train_score)"
   ]
  },
  {
   "cell_type": "code",
   "execution_count": 133,
   "id": "325c3464",
   "metadata": {},
   "outputs": [
    {
     "data": {
      "text/plain": [
       "0.0"
      ]
     },
     "execution_count": 133,
     "metadata": {},
     "output_type": "execute_result"
    }
   ],
   "source": [
    "f1_score(y_test,train_score)"
   ]
  },
  {
   "cell_type": "code",
   "execution_count": 40,
   "id": "2240c3a4",
   "metadata": {},
   "outputs": [],
   "source": [
    "df_test=pd.read_csv('test_zo1G9sv.csv')"
   ]
  },
  {
   "cell_type": "code",
   "execution_count": 155,
   "id": "76861aa3",
   "metadata": {},
   "outputs": [
    {
     "ename": "NameError",
     "evalue": "name 'df_test' is not defined",
     "output_type": "error",
     "traceback": [
      "\u001b[1;31m---------------------------------------------------------------------------\u001b[0m",
      "\u001b[1;31mNameError\u001b[0m                                 Traceback (most recent call last)",
      "Cell \u001b[1;32mIn [155], line 1\u001b[0m\n\u001b[1;32m----> 1\u001b[0m df_test\u001b[38;5;241m=\u001b[39m\u001b[43mdf_test\u001b[49m\u001b[38;5;241m.\u001b[39mdrop([\u001b[38;5;124m'\u001b[39m\u001b[38;5;124mpolicy_id\u001b[39m\u001b[38;5;124m'\u001b[39m,\u001b[38;5;124m'\u001b[39m\u001b[38;5;124marea_cluster\u001b[39m\u001b[38;5;124m'\u001b[39m,\u001b[38;5;124m'\u001b[39m\u001b[38;5;124mpopulation_density\u001b[39m\u001b[38;5;124m'\u001b[39m,\u001b[38;5;124m'\u001b[39m\u001b[38;5;124msegment\u001b[39m\u001b[38;5;124m'\u001b[39m,\u001b[38;5;124m'\u001b[39m\u001b[38;5;124mairbags\u001b[39m\u001b[38;5;124m'\u001b[39m,\u001b[38;5;124m'\u001b[39m\u001b[38;5;124mlength\u001b[39m\u001b[38;5;124m'\u001b[39m,\u001b[38;5;124m'\u001b[39m\u001b[38;5;124mheight\u001b[39m\u001b[38;5;124m'\u001b[39m,\u001b[38;5;124m'\u001b[39m\u001b[38;5;124mwidth\u001b[39m\u001b[38;5;124m'\u001b[39m,\u001b[38;5;124m'\u001b[39m\u001b[38;5;124mgross_weight\u001b[39m\u001b[38;5;124m'\u001b[39m,\u001b[38;5;124m'\u001b[39m\u001b[38;5;124mdisplacement\u001b[39m\u001b[38;5;124m'\u001b[39m,\u001b[38;5;124m'\u001b[39m\u001b[38;5;124mmodel\u001b[39m\u001b[38;5;124m'\u001b[39m],axis\u001b[38;5;241m=\u001b[39m\u001b[38;5;241m1\u001b[39m)\n\u001b[0;32m      2\u001b[0m tesing\u001b[38;5;241m=\u001b[39mencoding(df_test)\n\u001b[0;32m      3\u001b[0m sc\u001b[38;5;241m.\u001b[39mfit(X)\n",
      "\u001b[1;31mNameError\u001b[0m: name 'df_test' is not defined"
     ]
    }
   ],
   "source": [
    "df_test=df_test.drop(['policy_id','area_cluster','population_density','segment','airbags','length','height','width','gross_weight','displacement','model'],axis=1)\n",
    "testing=encoding(df_test)\n",
    "# sc.fit(X)\n",
    "# test=sc.transform(test)"
   ]
  },
  {
   "cell_type": "code",
   "execution_count": 42,
   "id": "9cb04c22",
   "metadata": {},
   "outputs": [
    {
     "data": {
      "text/plain": [
       "(39063, 32)"
      ]
     },
     "execution_count": 42,
     "metadata": {},
     "output_type": "execute_result"
    }
   ],
   "source": [
    "testing.shape"
   ]
  },
  {
   "cell_type": "code",
   "execution_count": 43,
   "id": "9bb01213",
   "metadata": {},
   "outputs": [],
   "source": [
    "y_pred=lr.predict(testing)"
   ]
  },
  {
   "cell_type": "code",
   "execution_count": 44,
   "id": "31ca3257",
   "metadata": {},
   "outputs": [],
   "source": [
    "output=pd.DataFrame(y_pred)"
   ]
  },
  {
   "cell_type": "code",
   "execution_count": 45,
   "id": "c5eb6cb0",
   "metadata": {},
   "outputs": [],
   "source": [
    "output=output.rename(columns={0:'output'})\n"
   ]
  },
  {
   "cell_type": "code",
   "execution_count": 46,
   "id": "ad4eb61a",
   "metadata": {},
   "outputs": [
    {
     "data": {
      "text/plain": [
       "array([0, 1], dtype=int64)"
      ]
     },
     "execution_count": 46,
     "metadata": {},
     "output_type": "execute_result"
    }
   ],
   "source": [
    "output['output'].unique()"
   ]
  },
  {
   "cell_type": "markdown",
   "id": "b8ab28c2",
   "metadata": {},
   "source": [
    "### Random Forest Classifier "
   ]
  },
  {
   "cell_type": "code",
   "execution_count": 153,
   "id": "deee95bc",
   "metadata": {},
   "outputs": [],
   "source": [
    "from sklearn.ensemble import RandomForestClassifier"
   ]
  },
  {
   "cell_type": "code",
   "execution_count": 154,
   "id": "e80e092d",
   "metadata": {},
   "outputs": [
    {
     "data": {
      "text/html": [
       "<style>#sk-container-id-14 {color: black;background-color: white;}#sk-container-id-14 pre{padding: 0;}#sk-container-id-14 div.sk-toggleable {background-color: white;}#sk-container-id-14 label.sk-toggleable__label {cursor: pointer;display: block;width: 100%;margin-bottom: 0;padding: 0.3em;box-sizing: border-box;text-align: center;}#sk-container-id-14 label.sk-toggleable__label-arrow:before {content: \"▸\";float: left;margin-right: 0.25em;color: #696969;}#sk-container-id-14 label.sk-toggleable__label-arrow:hover:before {color: black;}#sk-container-id-14 div.sk-estimator:hover label.sk-toggleable__label-arrow:before {color: black;}#sk-container-id-14 div.sk-toggleable__content {max-height: 0;max-width: 0;overflow: hidden;text-align: left;background-color: #f0f8ff;}#sk-container-id-14 div.sk-toggleable__content pre {margin: 0.2em;color: black;border-radius: 0.25em;background-color: #f0f8ff;}#sk-container-id-14 input.sk-toggleable__control:checked~div.sk-toggleable__content {max-height: 200px;max-width: 100%;overflow: auto;}#sk-container-id-14 input.sk-toggleable__control:checked~label.sk-toggleable__label-arrow:before {content: \"▾\";}#sk-container-id-14 div.sk-estimator input.sk-toggleable__control:checked~label.sk-toggleable__label {background-color: #d4ebff;}#sk-container-id-14 div.sk-label input.sk-toggleable__control:checked~label.sk-toggleable__label {background-color: #d4ebff;}#sk-container-id-14 input.sk-hidden--visually {border: 0;clip: rect(1px 1px 1px 1px);clip: rect(1px, 1px, 1px, 1px);height: 1px;margin: -1px;overflow: hidden;padding: 0;position: absolute;width: 1px;}#sk-container-id-14 div.sk-estimator {font-family: monospace;background-color: #f0f8ff;border: 1px dotted black;border-radius: 0.25em;box-sizing: border-box;margin-bottom: 0.5em;}#sk-container-id-14 div.sk-estimator:hover {background-color: #d4ebff;}#sk-container-id-14 div.sk-parallel-item::after {content: \"\";width: 100%;border-bottom: 1px solid gray;flex-grow: 1;}#sk-container-id-14 div.sk-label:hover label.sk-toggleable__label {background-color: #d4ebff;}#sk-container-id-14 div.sk-serial::before {content: \"\";position: absolute;border-left: 1px solid gray;box-sizing: border-box;top: 0;bottom: 0;left: 50%;z-index: 0;}#sk-container-id-14 div.sk-serial {display: flex;flex-direction: column;align-items: center;background-color: white;padding-right: 0.2em;padding-left: 0.2em;position: relative;}#sk-container-id-14 div.sk-item {position: relative;z-index: 1;}#sk-container-id-14 div.sk-parallel {display: flex;align-items: stretch;justify-content: center;background-color: white;position: relative;}#sk-container-id-14 div.sk-item::before, #sk-container-id-14 div.sk-parallel-item::before {content: \"\";position: absolute;border-left: 1px solid gray;box-sizing: border-box;top: 0;bottom: 0;left: 50%;z-index: -1;}#sk-container-id-14 div.sk-parallel-item {display: flex;flex-direction: column;z-index: 1;position: relative;background-color: white;}#sk-container-id-14 div.sk-parallel-item:first-child::after {align-self: flex-end;width: 50%;}#sk-container-id-14 div.sk-parallel-item:last-child::after {align-self: flex-start;width: 50%;}#sk-container-id-14 div.sk-parallel-item:only-child::after {width: 0;}#sk-container-id-14 div.sk-dashed-wrapped {border: 1px dashed gray;margin: 0 0.4em 0.5em 0.4em;box-sizing: border-box;padding-bottom: 0.4em;background-color: white;}#sk-container-id-14 div.sk-label label {font-family: monospace;font-weight: bold;display: inline-block;line-height: 1.2em;}#sk-container-id-14 div.sk-label-container {text-align: center;}#sk-container-id-14 div.sk-container {/* jupyter's `normalize.less` sets `[hidden] { display: none; }` but bootstrap.min.css set `[hidden] { display: none !important; }` so we also need the `!important` here to be able to override the default hidden behavior on the sphinx rendered scikit-learn.org. See: https://github.com/scikit-learn/scikit-learn/issues/21755 */display: inline-block !important;position: relative;}#sk-container-id-14 div.sk-text-repr-fallback {display: none;}</style><div id=\"sk-container-id-14\" class=\"sk-top-container\"><div class=\"sk-text-repr-fallback\"><pre>RandomForestClassifier(n_estimators=1000)</pre><b>In a Jupyter environment, please rerun this cell to show the HTML representation or trust the notebook. <br />On GitHub, the HTML representation is unable to render, please try loading this page with nbviewer.org.</b></div><div class=\"sk-container\" hidden><div class=\"sk-item\"><div class=\"sk-estimator sk-toggleable\"><input class=\"sk-toggleable__control sk-hidden--visually\" id=\"sk-estimator-id-14\" type=\"checkbox\" checked><label for=\"sk-estimator-id-14\" class=\"sk-toggleable__label sk-toggleable__label-arrow\">RandomForestClassifier</label><div class=\"sk-toggleable__content\"><pre>RandomForestClassifier(n_estimators=1000)</pre></div></div></div></div></div>"
      ],
      "text/plain": [
       "RandomForestClassifier(n_estimators=1000)"
      ]
     },
     "execution_count": 154,
     "metadata": {},
     "output_type": "execute_result"
    }
   ],
   "source": [
    "rfc=RandomForestClassifier(n_estimators=1000)\n",
    "rfc.fit(X_train,y_train)"
   ]
  },
  {
   "cell_type": "code",
   "execution_count": 136,
   "id": "428be6f1",
   "metadata": {},
   "outputs": [],
   "source": [
    "pred=rfc.predict(X_test)"
   ]
  },
  {
   "cell_type": "code",
   "execution_count": 137,
   "id": "dd919699",
   "metadata": {},
   "outputs": [
    {
     "data": {
      "text/plain": [
       "0.9280919330981909"
      ]
     },
     "execution_count": 137,
     "metadata": {},
     "output_type": "execute_result"
    }
   ],
   "source": [
    "accuracy_score(y_test,pred)"
   ]
  },
  {
   "cell_type": "code",
   "execution_count": 138,
   "id": "42504e8f",
   "metadata": {},
   "outputs": [
    {
     "data": {
      "text/plain": [
       "array([[16297,   147],\n",
       "       [ 1117,    17]], dtype=int64)"
      ]
     },
     "execution_count": 138,
     "metadata": {},
     "output_type": "execute_result"
    }
   ],
   "source": [
    "confusion_matrix(y_test,pred)"
   ]
  },
  {
   "cell_type": "markdown",
   "id": "b767b7ae",
   "metadata": {},
   "source": [
    "### XGBClassifier "
   ]
  },
  {
   "cell_type": "code",
   "execution_count": 139,
   "id": "249e3d26",
   "metadata": {},
   "outputs": [],
   "source": [
    "from xgboost import XGBClassifier"
   ]
  },
  {
   "cell_type": "code",
   "execution_count": 140,
   "id": "e485210d",
   "metadata": {},
   "outputs": [],
   "source": [
    "xgb=XGBClassifier(gamma=5, learning_rate=0.01, n_estimators=500, random_state=42,max_depth=3)"
   ]
  },
  {
   "cell_type": "code",
   "execution_count": 141,
   "id": "4e0dbfc9",
   "metadata": {},
   "outputs": [
    {
     "data": {
      "text/html": [
       "<style>#sk-container-id-13 {color: black;background-color: white;}#sk-container-id-13 pre{padding: 0;}#sk-container-id-13 div.sk-toggleable {background-color: white;}#sk-container-id-13 label.sk-toggleable__label {cursor: pointer;display: block;width: 100%;margin-bottom: 0;padding: 0.3em;box-sizing: border-box;text-align: center;}#sk-container-id-13 label.sk-toggleable__label-arrow:before {content: \"▸\";float: left;margin-right: 0.25em;color: #696969;}#sk-container-id-13 label.sk-toggleable__label-arrow:hover:before {color: black;}#sk-container-id-13 div.sk-estimator:hover label.sk-toggleable__label-arrow:before {color: black;}#sk-container-id-13 div.sk-toggleable__content {max-height: 0;max-width: 0;overflow: hidden;text-align: left;background-color: #f0f8ff;}#sk-container-id-13 div.sk-toggleable__content pre {margin: 0.2em;color: black;border-radius: 0.25em;background-color: #f0f8ff;}#sk-container-id-13 input.sk-toggleable__control:checked~div.sk-toggleable__content {max-height: 200px;max-width: 100%;overflow: auto;}#sk-container-id-13 input.sk-toggleable__control:checked~label.sk-toggleable__label-arrow:before {content: \"▾\";}#sk-container-id-13 div.sk-estimator input.sk-toggleable__control:checked~label.sk-toggleable__label {background-color: #d4ebff;}#sk-container-id-13 div.sk-label input.sk-toggleable__control:checked~label.sk-toggleable__label {background-color: #d4ebff;}#sk-container-id-13 input.sk-hidden--visually {border: 0;clip: rect(1px 1px 1px 1px);clip: rect(1px, 1px, 1px, 1px);height: 1px;margin: -1px;overflow: hidden;padding: 0;position: absolute;width: 1px;}#sk-container-id-13 div.sk-estimator {font-family: monospace;background-color: #f0f8ff;border: 1px dotted black;border-radius: 0.25em;box-sizing: border-box;margin-bottom: 0.5em;}#sk-container-id-13 div.sk-estimator:hover {background-color: #d4ebff;}#sk-container-id-13 div.sk-parallel-item::after {content: \"\";width: 100%;border-bottom: 1px solid gray;flex-grow: 1;}#sk-container-id-13 div.sk-label:hover label.sk-toggleable__label {background-color: #d4ebff;}#sk-container-id-13 div.sk-serial::before {content: \"\";position: absolute;border-left: 1px solid gray;box-sizing: border-box;top: 0;bottom: 0;left: 50%;z-index: 0;}#sk-container-id-13 div.sk-serial {display: flex;flex-direction: column;align-items: center;background-color: white;padding-right: 0.2em;padding-left: 0.2em;position: relative;}#sk-container-id-13 div.sk-item {position: relative;z-index: 1;}#sk-container-id-13 div.sk-parallel {display: flex;align-items: stretch;justify-content: center;background-color: white;position: relative;}#sk-container-id-13 div.sk-item::before, #sk-container-id-13 div.sk-parallel-item::before {content: \"\";position: absolute;border-left: 1px solid gray;box-sizing: border-box;top: 0;bottom: 0;left: 50%;z-index: -1;}#sk-container-id-13 div.sk-parallel-item {display: flex;flex-direction: column;z-index: 1;position: relative;background-color: white;}#sk-container-id-13 div.sk-parallel-item:first-child::after {align-self: flex-end;width: 50%;}#sk-container-id-13 div.sk-parallel-item:last-child::after {align-self: flex-start;width: 50%;}#sk-container-id-13 div.sk-parallel-item:only-child::after {width: 0;}#sk-container-id-13 div.sk-dashed-wrapped {border: 1px dashed gray;margin: 0 0.4em 0.5em 0.4em;box-sizing: border-box;padding-bottom: 0.4em;background-color: white;}#sk-container-id-13 div.sk-label label {font-family: monospace;font-weight: bold;display: inline-block;line-height: 1.2em;}#sk-container-id-13 div.sk-label-container {text-align: center;}#sk-container-id-13 div.sk-container {/* jupyter's `normalize.less` sets `[hidden] { display: none; }` but bootstrap.min.css set `[hidden] { display: none !important; }` so we also need the `!important` here to be able to override the default hidden behavior on the sphinx rendered scikit-learn.org. See: https://github.com/scikit-learn/scikit-learn/issues/21755 */display: inline-block !important;position: relative;}#sk-container-id-13 div.sk-text-repr-fallback {display: none;}</style><div id=\"sk-container-id-13\" class=\"sk-top-container\"><div class=\"sk-text-repr-fallback\"><pre>XGBClassifier(base_score=0.5, booster=&#x27;gbtree&#x27;, callbacks=None,\n",
       "              colsample_bylevel=1, colsample_bynode=1, colsample_bytree=1,\n",
       "              early_stopping_rounds=None, enable_categorical=False,\n",
       "              eval_metric=None, feature_types=None, gamma=5, gpu_id=-1,\n",
       "              grow_policy=&#x27;depthwise&#x27;, importance_type=None,\n",
       "              interaction_constraints=&#x27;&#x27;, learning_rate=0.01, max_bin=256,\n",
       "              max_cat_threshold=64, max_cat_to_onehot=4, max_delta_step=0,\n",
       "              max_depth=3, max_leaves=0, min_child_weight=1, missing=nan,\n",
       "              monotone_constraints=&#x27;()&#x27;, n_estimators=500, n_jobs=0,\n",
       "              num_parallel_tree=1, predictor=&#x27;auto&#x27;, random_state=42, ...)</pre><b>In a Jupyter environment, please rerun this cell to show the HTML representation or trust the notebook. <br />On GitHub, the HTML representation is unable to render, please try loading this page with nbviewer.org.</b></div><div class=\"sk-container\" hidden><div class=\"sk-item\"><div class=\"sk-estimator sk-toggleable\"><input class=\"sk-toggleable__control sk-hidden--visually\" id=\"sk-estimator-id-13\" type=\"checkbox\" checked><label for=\"sk-estimator-id-13\" class=\"sk-toggleable__label sk-toggleable__label-arrow\">XGBClassifier</label><div class=\"sk-toggleable__content\"><pre>XGBClassifier(base_score=0.5, booster=&#x27;gbtree&#x27;, callbacks=None,\n",
       "              colsample_bylevel=1, colsample_bynode=1, colsample_bytree=1,\n",
       "              early_stopping_rounds=None, enable_categorical=False,\n",
       "              eval_metric=None, feature_types=None, gamma=5, gpu_id=-1,\n",
       "              grow_policy=&#x27;depthwise&#x27;, importance_type=None,\n",
       "              interaction_constraints=&#x27;&#x27;, learning_rate=0.01, max_bin=256,\n",
       "              max_cat_threshold=64, max_cat_to_onehot=4, max_delta_step=0,\n",
       "              max_depth=3, max_leaves=0, min_child_weight=1, missing=nan,\n",
       "              monotone_constraints=&#x27;()&#x27;, n_estimators=500, n_jobs=0,\n",
       "              num_parallel_tree=1, predictor=&#x27;auto&#x27;, random_state=42, ...)</pre></div></div></div></div></div>"
      ],
      "text/plain": [
       "XGBClassifier(base_score=0.5, booster='gbtree', callbacks=None,\n",
       "              colsample_bylevel=1, colsample_bynode=1, colsample_bytree=1,\n",
       "              early_stopping_rounds=None, enable_categorical=False,\n",
       "              eval_metric=None, feature_types=None, gamma=5, gpu_id=-1,\n",
       "              grow_policy='depthwise', importance_type=None,\n",
       "              interaction_constraints='', learning_rate=0.01, max_bin=256,\n",
       "              max_cat_threshold=64, max_cat_to_onehot=4, max_delta_step=0,\n",
       "              max_depth=3, max_leaves=0, min_child_weight=1, missing=nan,\n",
       "              monotone_constraints='()', n_estimators=500, n_jobs=0,\n",
       "              num_parallel_tree=1, predictor='auto', random_state=42, ...)"
      ]
     },
     "execution_count": 141,
     "metadata": {},
     "output_type": "execute_result"
    }
   ],
   "source": [
    "xgb.fit(X_train,y_train)"
   ]
  },
  {
   "cell_type": "code",
   "execution_count": 142,
   "id": "aa5a5b2a",
   "metadata": {},
   "outputs": [],
   "source": [
    "xgb_pred=xgb.predict(X_test)"
   ]
  },
  {
   "cell_type": "code",
   "execution_count": 143,
   "id": "7b3cc567",
   "metadata": {},
   "outputs": [
    {
     "data": {
      "text/plain": [
       "0.9354875412447378"
      ]
     },
     "execution_count": 143,
     "metadata": {},
     "output_type": "execute_result"
    }
   ],
   "source": [
    "accuracy_score(y_test,xgb_pred)"
   ]
  },
  {
   "cell_type": "code",
   "execution_count": 144,
   "id": "e8be099b",
   "metadata": {},
   "outputs": [
    {
     "data": {
      "text/plain": [
       "array([[16444,     0],\n",
       "       [ 1134,     0]], dtype=int64)"
      ]
     },
     "execution_count": 144,
     "metadata": {},
     "output_type": "execute_result"
    }
   ],
   "source": [
    "confusion_matrix(y_test,xgb_pred)"
   ]
  },
  {
   "cell_type": "markdown",
   "id": "be5efa2f",
   "metadata": {},
   "source": [
    "### CatBoostClassifier "
   ]
  },
  {
   "cell_type": "code",
   "execution_count": 145,
   "id": "e90c17a6",
   "metadata": {},
   "outputs": [],
   "source": [
    "from catboost import CatBoostClassifier"
   ]
  },
  {
   "cell_type": "code",
   "execution_count": 146,
   "id": "fbba23e5",
   "metadata": {},
   "outputs": [],
   "source": [
    "categorical_features_indices = np.where((X_train.dtypes == object).values.astype(int) == 1)[0]"
   ]
  },
  {
   "cell_type": "code",
   "execution_count": 147,
   "id": "203c803e",
   "metadata": {},
   "outputs": [
    {
     "data": {
      "text/plain": [
       "<catboost.core.CatBoostClassifier at 0x1cc9c3b60b0>"
      ]
     },
     "execution_count": 147,
     "metadata": {},
     "output_type": "execute_result"
    }
   ],
   "source": [
    "catboost_base = CatBoostClassifier(verbose=False,random_state=0, scale_pos_weight=10)\n",
    "catboost_base.fit(X_train, y_train,cat_features=categorical_features_indices,eval_set=(X_test,y_test))"
   ]
  },
  {
   "cell_type": "code",
   "execution_count": 148,
   "id": "248ccbd5",
   "metadata": {},
   "outputs": [],
   "source": [
    "cat_pred=catboost_base.predict(X_test)"
   ]
  },
  {
   "cell_type": "code",
   "execution_count": 149,
   "id": "ae492828",
   "metadata": {},
   "outputs": [
    {
     "data": {
      "text/plain": [
       "0.7942314256456935"
      ]
     },
     "execution_count": 149,
     "metadata": {},
     "output_type": "execute_result"
    }
   ],
   "source": [
    "accuracy_score(y_test,cat_pred)"
   ]
  },
  {
   "cell_type": "code",
   "execution_count": 150,
   "id": "43ea2f69",
   "metadata": {},
   "outputs": [
    {
     "data": {
      "text/plain": [
       "array([[13593,  2851],\n",
       "       [  766,   368]], dtype=int64)"
      ]
     },
     "execution_count": 150,
     "metadata": {},
     "output_type": "execute_result"
    }
   ],
   "source": [
    "confusion_matrix(y_test,cat_pred)"
   ]
  },
  {
   "cell_type": "code",
   "execution_count": null,
   "id": "6ee8f295",
   "metadata": {},
   "outputs": [],
   "source": []
  }
 ],
 "metadata": {
  "kernelspec": {
   "display_name": "Python 3 (ipykernel)",
   "language": "python",
   "name": "python3"
  },
  "language_info": {
   "codemirror_mode": {
    "name": "ipython",
    "version": 3
   },
   "file_extension": ".py",
   "mimetype": "text/x-python",
   "name": "python",
   "nbconvert_exporter": "python",
   "pygments_lexer": "ipython3",
   "version": "3.10.4"
  }
 },
 "nbformat": 4,
 "nbformat_minor": 5
}
